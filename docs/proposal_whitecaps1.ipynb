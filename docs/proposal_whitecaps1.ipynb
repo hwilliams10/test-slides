{
 "cells": [
  {
   "cell_type": "markdown",
   "metadata": {
    "slideshow": {
     "slide_type": "slide"
    }
   },
   "source": [
    "# Whitecaps1: Winning the goal differential race \n",
    "### Understanding players' offensive and defensive performance in Major League Soccer\n",
    "\n",
    "\n",
    "\n",
    "**Team Members:** Evhen Dytyniak, Holly Williams, Karlos Muradyan and Ofer Mansour\n",
    "\n",
    "**Faculty Advisor:** Rodolfo Lourenzutti\n",
    "\n",
    "<img src=\"../imgs/combined_logo.png\" width=\"200\" align=\"right\"/>"
   ]
  },
  {
   "cell_type": "markdown",
   "metadata": {
    "slideshow": {
     "slide_type": "slide"
    }
   },
   "source": [
    "# Introduction\n",
    "\n",
    "## Problem Statement\n",
    "\n",
    "Can we quantify how much each player contributes offensively (scoring goals) and defensively (preventing goals)?"
   ]
  },
  {
   "cell_type": "markdown",
   "metadata": {
    "slideshow": {
     "slide_type": "fragment"
    }
   },
   "source": [
    "## Why is this important?\n",
    "\n",
    "Ultimately, the Whitecaps' end-goal is to make the playoffs.\n",
    "- Teams that do this traditionally have higher goal differences (score more and concede less) than those who don't\n",
    "- By \n",
    "\n",
    "Going forward, can also be used to assist decision-making in:\n",
    "- scouting (identify high-value players to sign)\n",
    "- coaching (identify player weaknesses)\n",
    "- tactics "
   ]
  },
  {
   "cell_type": "markdown",
   "metadata": {
    "slideshow": {
     "slide_type": "slide"
    }
   },
   "source": [
    "## Why is this important? (continued)\n",
    "\n",
    "- Traditional metrics (goals scored, assists) only reward strikers\n",
    "- What about the players who did most of the work?\n",
    "\n",
    "https://thumbs.gfycat.com/ThirstyMisguidedAllosaurus-mobile.mp4\n",
    "![ChessUrl](https://thumbs.gfycat.com/ThirstyMisguidedAllosaurus-mobile.mp4 \"chess\")"
   ]
  },
  {
   "cell_type": "markdown",
   "metadata": {
    "slideshow": {
     "slide_type": "fragment"
    }
   },
   "source": [
    "- What about defensive players who prevent goals?"
   ]
  },
  {
   "cell_type": "markdown",
   "metadata": {},
   "source": [
    "# Available Data\n",
    "\n"
   ]
  },
  {
   "cell_type": "markdown",
   "metadata": {},
   "source": [
    "# Our proposed approach\n",
    "\n",
    "1. Review current best practice / state-of-the-art \n",
    "2. Develop a simple \"vanilla\" base model\n",
    "3. "
   ]
  },
  {
   "cell_type": "markdown",
   "metadata": {},
   "source": [
    "# Data Science Tools"
   ]
  },
  {
   "cell_type": "markdown",
   "metadata": {},
   "source": [
    "# Timeline\n",
    "\n"
   ]
  },
  {
   "cell_type": "markdown",
   "metadata": {},
   "source": [
    "# Challenges"
   ]
  },
  {
   "cell_type": "markdown",
   "metadata": {},
   "source": []
  }
 ],
 "metadata": {
  "celltoolbar": "Slideshow",
  "jupytext": {
   "formats": "ipynb"
  },
  "kernelspec": {
   "display_name": "Python 3",
   "language": "python",
   "name": "python3"
  },
  "language_info": {
   "codemirror_mode": {
    "name": "ipython",
    "version": 3
   },
   "file_extension": ".py",
   "mimetype": "text/x-python",
   "name": "python",
   "nbconvert_exporter": "python",
   "pygments_lexer": "ipython3",
   "version": "3.8.2"
  },
  "rise": {
   "autolaunch": true,
   "enable_chalkboard": true
  }
 },
 "nbformat": 4,
 "nbformat_minor": 4
}
